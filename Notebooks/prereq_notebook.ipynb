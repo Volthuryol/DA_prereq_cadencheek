{
 "cells": [
  {
   "cell_type": "code",
   "execution_count": 1,
   "id": "f38a37d6",
   "metadata": {},
   "outputs": [
    {
     "name": "stdout",
     "output_type": "stream",
     "text": [
      "Hello Code:You and the August 2025 cohort!\n"
     ]
    }
   ],
   "source": [
    "print(\"Hello Code:You and the August 2025 cohort!\")"
   ]
  },
  {
   "cell_type": "markdown",
   "id": "2afcd15e",
   "metadata": {},
   "source": [
    "My name is Caden, I am really excited to learn Python and data analysis, hoping to some day branch into machine learning. Software has always been a passion of mine. I build computers in my spare time, I have previously done a coding boot camp consisting of HTML, CSS, JavaScript, SQL, and Swift. "
   ]
  }
 ],
 "metadata": {
  "kernelspec": {
   "display_name": "Python 3",
   "language": "python",
   "name": "python3"
  },
  "language_info": {
   "codemirror_mode": {
    "name": "ipython",
    "version": 3
   },
   "file_extension": ".py",
   "mimetype": "text/x-python",
   "name": "python",
   "nbconvert_exporter": "python",
   "pygments_lexer": "ipython3",
   "version": "3.14.0"
  }
 },
 "nbformat": 4,
 "nbformat_minor": 5
}
